{
  "nbformat": 4,
  "nbformat_minor": 0,
  "metadata": {
    "colab": {
      "provenance": [],
      "gpuType": "T4"
    },
    "kernelspec": {
      "name": "python3",
      "display_name": "Python 3"
    },
    "language_info": {
      "name": "python"
    }
  },
  "cells": [
    {
      "cell_type": "code",
      "execution_count": 5,
      "metadata": {
        "id": "CIt_Y6BCDd9x",
        "colab": {
          "base_uri": "https://localhost:8080/"
        },
        "outputId": "b3ad7927-5665-45b5-c749-f25c8e7d77ed"
      },
      "outputs": [
        {
          "output_type": "stream",
          "name": "stdout",
          "text": [
            "Requirement already satisfied: SpeechRecognition in /usr/local/lib/python3.10/dist-packages (3.10.0)\n",
            "Requirement already satisfied: requests>=2.26.0 in /usr/local/lib/python3.10/dist-packages (from SpeechRecognition) (2.31.0)\n",
            "Requirement already satisfied: charset-normalizer<4,>=2 in /usr/local/lib/python3.10/dist-packages (from requests>=2.26.0->SpeechRecognition) (3.3.0)\n",
            "Requirement already satisfied: idna<4,>=2.5 in /usr/local/lib/python3.10/dist-packages (from requests>=2.26.0->SpeechRecognition) (3.4)\n",
            "Requirement already satisfied: urllib3<3,>=1.21.1 in /usr/local/lib/python3.10/dist-packages (from requests>=2.26.0->SpeechRecognition) (2.0.7)\n",
            "Requirement already satisfied: certifi>=2017.4.17 in /usr/local/lib/python3.10/dist-packages (from requests>=2.26.0->SpeechRecognition) (2023.7.22)\n",
            "Collecting pydub\n",
            "  Downloading pydub-0.25.1-py2.py3-none-any.whl (32 kB)\n",
            "Installing collected packages: pydub\n",
            "Successfully installed pydub-0.25.1\n"
          ]
        }
      ],
      "source": [
        "!pip install SpeechRecognition\n",
        "!pip install pydub\n",
        "# Import the speech recognition module\n",
        "import speech_recognition as sr\n",
        "from pydub import AudioSegment"
      ]
    },
    {
      "cell_type": "code",
      "source": [
        "# Function to convert audio file to wav format\n",
        "def convert_to_wav(audio_file):\n",
        "    sound = AudioSegment.from_file(audio_file)\n",
        "    wav_file = audio_file.split('.')[0] + '.wav'\n",
        "    sound.export(wav_file, format=\"wav\")\n",
        "    return wav_file"
      ],
      "metadata": {
        "id": "fZJcARE7DpJI"
      },
      "execution_count": 6,
      "outputs": []
    },
    {
      "cell_type": "code",
      "source": [
        "# The Audio file (.MP3, .M4A, .WAV) will be uploaded into files dump in colab\n",
        "# After uploading audio_file = <PATH OF THE AUDIO FILE>\n",
        "\n",
        "# Convert the file to WAV if necessary\n",
        "audio_file = \"/content/Surah Fatihah 2.mp3\" # Insert audio file path in \"\"\n",
        "wav_file = convert_to_wav(audio_file)"
      ],
      "metadata": {
        "id": "F0ArENRFDv7l"
      },
      "execution_count": 11,
      "outputs": []
    },
    {
      "cell_type": "code",
      "source": [
        "# Initialize recognizer\n",
        "r = sr.Recognizer()\n",
        "\n",
        "# Load audio file\n",
        "with sr.AudioFile(wav_file) as source:\n",
        "    audio = r.record(source)"
      ],
      "metadata": {
        "id": "fJglifdADyMe"
      },
      "execution_count": 9,
      "outputs": []
    },
    {
      "cell_type": "code",
      "source": [
        "# Recognize speech using Google Speech Recognition\n",
        "try:\n",
        "    text = r.recognize_google(audio, language=\"ar-AR\")\n",
        "    print(f\"Arabic: {text}\")\n",
        "\n",
        "except sr.UnknownValueError:\n",
        "    print(\"Could not understand audio\")\n",
        "\n",
        "except sr.RequestError as e:\n",
        "    print(\"Could not request results from Google Speech Recognition; {0}\".format(e))\n"
      ],
      "metadata": {
        "colab": {
          "base_uri": "https://localhost:8080/"
        },
        "id": "78gRx0lqvL2x",
        "outputId": "418b3289-7546-40bf-810d-c44d76f8f447"
      },
      "execution_count": 10,
      "outputs": [
        {
          "output_type": "stream",
          "name": "stdout",
          "text": [
            "Arabic: اعوذ بالله من الشيطان الرجيم بسم الله الرحمن الرحيم الحمد لله رب العالمين الرحمن الرحيم مالك يوم الدين اياك نعبد واياك نستعين اهدنا الصراط المستقيم صراط الذين انعمت عليهم غير المغضوب عليهم ولا الضالين\n"
          ]
        }
      ]
    }
  ]
}